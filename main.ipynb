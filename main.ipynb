{
 "cells": [
  {
   "cell_type": "code",
   "execution_count": 10,
   "id": "dbe153bd",
   "metadata": {},
   "outputs": [
    {
     "name": "stdout",
     "output_type": "stream",
     "text": [
      "Shape: (750000, 18)\n",
      "Columns: ['id', 'age', 'job', 'marital', 'education', 'default', 'balance', 'housing', 'loan', 'contact', 'day', 'month', 'duration', 'campaign', 'pdays', 'previous', 'poutcome', 'y']\n"
     ]
    }
   ],
   "source": [
    "from typing import List, Tuple, Union\n",
    "\n",
    "import numpy as np\n",
    "import pandas as pd\n",
    "from catboost import CatBoostClassifier\n",
    "from sklearn.ensemble import RandomForestClassifier\n",
    "from sklearn.linear_model import LogisticRegression\n",
    "from sklearn.metrics import classification_report, roc_auc_score\n",
    "from sklearn.model_selection import StratifiedKFold, cross_val_score, train_test_split\n",
    "from sklearn.pipeline import Pipeline\n",
    "\n",
    "from functions import create_pipeline\n",
    "\n",
    "# Загрузка данных\n",
    "df_train = pd.read_csv(\"train.csv\")\n",
    "print(\"Shape:\", df_train.shape)\n",
    "print(\"Columns:\", df_train.columns.tolist())"
   ]
  },
  {
   "cell_type": "markdown",
   "id": "a2da1dd6",
   "metadata": {},
   "source": [
    "# Преобразование целевой переменной\n",
    "\n",
    "# Бинарная целевая переменная\n",
    "\n",
    "# Проверка на наличие двух классов\n",
    "\n",
    "# Признаки\n",
    "\n",
    "# Проверка наличия признаков"
   ]
  },
  {
   "cell_type": "code",
   "execution_count": 11,
   "id": "09b12606",
   "metadata": {},
   "outputs": [
    {
     "name": "stdout",
     "output_type": "stream",
     "text": [
      "Unique values in 'y' after normalization: ['no' 'yes']\n",
      "Value counts in 'y':\n",
      " y\n",
      "no     0.879349\n",
      "yes    0.120651\n",
      "Name: proportion, dtype: float64\n",
      "Unique values in y_train: [0 1]\n",
      "Value counts in y_train:\n",
      " y\n",
      "0    0.879349\n",
      "1    0.120651\n",
      "Name: proportion, dtype: float64\n"
     ]
    }
   ],
   "source": [
    "df_train[\"y\"] = df_train[\"y\"].astype(str).str.strip()\n",
    "df_train[\"y\"] = df_train[\"y\"].replace({\"0\": \"no\", \"1\": \"yes\"})\n",
    "df_train[\"y\"] = df_train[\"y\"].fillna(\"no\")\n",
    "print(\"Unique values in 'y' after normalization:\", df_train[\"y\"].unique())\n",
    "print(\"Value counts in 'y':\\n\", df_train[\"y\"].value_counts(normalize=True))\n",
    "\n",
    "\n",
    "y_train = (df_train[\"y\"] == \"yes\").astype(int)\n",
    "print(\"Unique values in y_train:\", np.unique(y_train))\n",
    "print(\"Value counts in y_train:\\n\", pd.Series(y_train).value_counts(normalize=True))\n",
    "\n",
    "\n",
    "if len(np.unique(y_train)) < 2:\n",
    "    raise ValueError(\n",
    "        \"y_train contains only one class. Check the target variable transformation.\"\n",
    "    )\n",
    "\n",
    "\n",
    "X_train = df_train.drop([\"y\"], axis=1)\n",
    "if \"id\" in X_train.columns:\n",
    "    X_train = X_train.drop(\"id\", axis=1)\n",
    "\n",
    "num_features = [\"age\", \"balance\", \"day\", \"duration\", \"campaign\", \"pdays\", \"previous\"]\n",
    "cat_features = [\n",
    "    \"job\",\n",
    "    \"marital\",\n",
    "    \"education\",\n",
    "    \"default\",\n",
    "    \"housing\",\n",
    "    \"loan\",\n",
    "    \"contact\",\n",
    "    \"month\",\n",
    "    \"poutcome\",\n",
    "]\n",
    "\n",
    "\n",
    "missing_features = [f for f in num_features + cat_features if f not in X_train.columns]\n",
    "if missing_features:\n",
    "    raise ValueError(f\"Missing features in X_train: {missing_features}\")"
   ]
  },
  {
   "cell_type": "markdown",
   "id": "acc68533",
   "metadata": {},
   "source": [
    "# Настройка моделей"
   ]
  },
  {
   "cell_type": "code",
   "execution_count": 12,
   "id": "a3fd2da9",
   "metadata": {},
   "outputs": [],
   "source": [
    "models: List[\n",
    "    Tuple[\n",
    "        str, Union[LogisticRegression, RandomForestClassifier, CatBoostClassifier], bool\n",
    "    ]\n",
    "] = [\n",
    "    (\n",
    "        \"LogisticRegression\",\n",
    "        LogisticRegression(random_state=42, max_iter=1000, class_weight=\"balanced\"),\n",
    "        True,\n",
    "    ),\n",
    "    (\n",
    "        \"RandomForest\",\n",
    "        RandomForestClassifier(\n",
    "            random_state=42, n_estimators=100, class_weight=\"balanced\"\n",
    "        ),\n",
    "        False,\n",
    "    ),\n",
    "    (\n",
    "        \"CatBoost\",\n",
    "        CatBoostClassifier(\n",
    "            random_state=42, iterations=100, verbose=0, auto_class_weights=\"Balanced\"\n",
    "        ),\n",
    "        False,\n",
    "    ),\n",
    "]"
   ]
  },
  {
   "cell_type": "code",
   "execution_count": null,
   "id": "2b62662f",
   "metadata": {},
   "outputs": [
    {
     "name": "stdout",
     "output_type": "stream",
     "text": [
      "\n",
      "=== Оценка модели LogisticRegression ===\n",
      "Разделение успешно с random_state=42\n",
      "Классы в train_split: [0 1]\n",
      "Классы в val: [0 1]\n",
      "\n",
      "Отчет по классификации:\n",
      "              precision    recall  f1-score   support\n",
      "\n",
      "           0       0.98      0.86      0.92    131902\n",
      "           1       0.46      0.90      0.61     18098\n",
      "\n",
      "    accuracy                           0.86    150000\n",
      "   macro avg       0.72      0.88      0.76    150000\n",
      "weighted avg       0.92      0.86      0.88    150000\n",
      "\n",
      "AUC-ROC: 0.9471\n",
      "Файл с предсказаниями для LogisticRegression создан!\n",
      "\n",
      "=== Оценка модели RandomForest ===\n",
      "Разделение успешно с random_state=42\n",
      "Классы в train_split: [0 1]\n",
      "Классы в val: [0 1]\n"
     ]
    }
   ],
   "source": [
    "for model_name, model, use_splines in models:\n",
    "    print(f\"\\n=== Оценка модели {model_name} ===\")\n",
    "    pipeline: Pipeline = create_pipeline(model, num_features, cat_features, use_splines)\n",
    "\n",
    "    split_success: bool = False\n",
    "    for rs in [42, 123, 456, 777, 0]:\n",
    "        X_train_split, X_val, y_train_split, y_val = train_test_split(\n",
    "            X_train,\n",
    "            y_train,\n",
    "            test_size=0.2,\n",
    "            stratify=y_train,\n",
    "            random_state=rs,\n",
    "            shuffle=True,\n",
    "        )\n",
    "        if len(np.unique(y_train_split)) >= 2 and len(np.unique(y_val)) >= 2:\n",
    "            print(f\"Разделение успешно с random_state={rs}\")\n",
    "            print(\"Классы в train_split:\", np.unique(y_train_split))\n",
    "            print(\"Классы в val:\", np.unique(y_val))\n",
    "            split_success = True\n",
    "            break\n",
    "        info_break = f\"Разделение не удалось с rs={rs}\"\n",
    "        info_train_classes = f\"train_classes={np.unique(y_train_split)}, \"\n",
    "        info_val_classes = f\"val_classes={np.unique(y_val)}\"\n",
    "        print(f\"{info_break}, {info_train_classes} {info_val_classes}\")\n",
    "\n",
    "    if split_success:\n",
    "        pipeline.fit(X_train_split, y_train_split)\n",
    "        y_pred: np.ndarray = pipeline.predict(X_val)\n",
    "        y_pred_proba: np.ndarray = pipeline.predict_proba(X_val)[:, 1]\n",
    "        print(\"\\nОтчет по классификации:\")\n",
    "        print(classification_report(y_val, y_pred))\n",
    "        print(f\"AUC-ROC: {roc_auc_score(y_val, y_pred_proba):.4f}\")\n",
    "    else:\n",
    "        print(\"Разделение не удалось — кросс-валидация.\")\n",
    "        cv: StratifiedKFold = StratifiedKFold(n_splits=5, shuffle=True, random_state=42)\n",
    "        cv_scores: np.ndarray = cross_val_score(\n",
    "            pipeline, X_train, y_train, cv=cv, scoring=\"roc_auc\", n_jobs=-1\n",
    "        )\n",
    "        print(f\"Результаты кросс-валидации AUC-ROC: {cv_scores}\")\n",
    "        print(f\"Средний AUC-ROC: {cv_scores.mean():.4f} ± {cv_scores.std():.4f}\")\n",
    "\n",
    "    pipeline.fit(X_train, y_train)\n",
    "    df_test: pd.DataFrame = pd.read_csv(\"test.csv\")\n",
    "    X_test: pd.DataFrame = df_test.drop(\"id\", axis=1)\n",
    "    test_predictions: np.ndarray = pipeline.predict_proba(X_test)[:, 1]\n",
    "    submission: pd.DataFrame = pd.DataFrame(\n",
    "        {\"id\": df_test[\"id\"], \"y\": test_predictions}\n",
    "    )\n",
    "    submission.to_csv(f\"{model_name}_submission.csv\", index=False)\n",
    "    print(f\"Файл с предсказаниями для {model_name} создан!\")\n",
    "\n",
    "print(\"\\nВсе модели обучены и предсказания сохранены!\")"
   ]
  }
 ],
 "metadata": {
  "kernelspec": {
   "display_name": "financial_project_env",
   "language": "python",
   "name": "python3"
  },
  "language_info": {
   "codemirror_mode": {
    "name": "ipython",
    "version": 3
   },
   "file_extension": ".py",
   "mimetype": "text/x-python",
   "name": "python",
   "nbconvert_exporter": "python",
   "pygments_lexer": "ipython3",
   "version": "3.13.7"
  }
 },
 "nbformat": 4,
 "nbformat_minor": 5
}

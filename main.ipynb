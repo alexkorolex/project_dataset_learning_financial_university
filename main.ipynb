{
 "cells": [
  {
   "cell_type": "code",
   "execution_count": 47,
   "id": "dbe153bd",
   "metadata": {},
   "outputs": [
    {
     "name": "stdout",
     "output_type": "stream",
     "text": [
      "Shape: (750000, 18)\n",
      "Columns: ['id', 'age', 'job', 'marital', 'education', 'default', 'balance', 'housing', 'loan', 'contact', 'day', 'month', 'duration', 'campaign', 'pdays', 'previous', 'poutcome', 'y']\n"
     ]
    }
   ],
   "source": [
    "import pandas as pd\n",
    "import numpy as np\n",
    "from sklearn.model_selection import train_test_split, cross_val_score\n",
    "from sklearn.preprocessing import StandardScaler, OneHotEncoder, SplineTransformer\n",
    "from sklearn.model_selection import StratifiedKFold\n",
    "from sklearn.compose import ColumnTransformer\n",
    "from sklearn.pipeline import Pipeline\n",
    "from sklearn.linear_model import LogisticRegression\n",
    "from sklearn.metrics import classification_report, roc_auc_score\n",
    "\n",
    "# Загрузка данных\n",
    "df_train = pd.read_csv('train.csv')\n",
    "print(\"Shape:\", df_train.shape)\n",
    "print(\"Columns:\", df_train.columns.tolist())\n",
    "\n"
   ]
  },
  {
   "cell_type": "markdown",
   "id": "a2da1dd6",
   "metadata": {},
   "source": [
    "# Преобразование целевой переменной\n",
    "\n",
    "# Бинарная целевая переменная\n",
    "\n",
    "# Проверка на наличие двух классов\n",
    "\n",
    "# Признаки\n",
    "\n",
    "# Проверка наличия признаков"
   ]
  },
  {
   "cell_type": "code",
   "execution_count": null,
   "id": "09b12606",
   "metadata": {},
   "outputs": [
    {
     "name": "stdout",
     "output_type": "stream",
     "text": [
      "Unique values in 'y' after normalization: ['no' 'yes']\n",
      "Value counts in 'y':\n",
      " y\n",
      "no     0.879349\n",
      "yes    0.120651\n",
      "Name: proportion, dtype: float64\n",
      "Unique values in y_train: [0 1]\n",
      "Value counts in y_train:\n",
      " y\n",
      "0    0.879349\n",
      "1    0.120651\n",
      "Name: proportion, dtype: float64\n"
     ]
    }
   ],
   "source": [
    "\n",
    "df_train['y'] = df_train['y'].astype(str).str.strip()\n",
    "df_train['y'] = df_train['y'].replace({'0': 'no', '1': 'yes'})\n",
    "df_train['y'] = df_train['y'].fillna('no')\n",
    "print(\"Unique values in 'y' after normalization:\", df_train['y'].unique())\n",
    "print(\"Value counts in 'y':\\n\", df_train['y'].value_counts(normalize=True))\n",
    "\n",
    "\n",
    "y_train = (df_train['y'] == 'yes').astype(int)\n",
    "print(\"Unique values in y_train:\", np.unique(y_train))\n",
    "print(\"Value counts in y_train:\\n\", pd.Series(y_train).value_counts(normalize=True))\n",
    "\n",
    "\n",
    "if len(np.unique(y_train)) < 2:\n",
    "    raise ValueError(\"y_train contains only one class. Check the target variable transformation.\")\n",
    "\n",
    "\n",
    "\n",
    "X_train = df_train.drop(['y'], axis=1)\n",
    "if 'id' in X_train.columns:\n",
    "    X_train = X_train.drop('id', axis=1)\n",
    "\n",
    "num_features = ['age', 'balance', 'day', 'duration', 'campaign', 'pdays', 'previous']\n",
    "cat_features = ['job', 'marital', 'education', 'default', 'housing', 'loan', 'contact', 'month', 'poutcome']\n",
    "\n",
    "\n",
    "missing_features = [f for f in num_features + cat_features if f not in X_train.columns]\n",
    "if missing_features:\n",
    "    raise ValueError(f\"Missing features in X_train: {missing_features}\")"
   ]
  },
  {
   "cell_type": "code",
   "execution_count": 49,
   "id": "2b62662f",
   "metadata": {},
   "outputs": [
    {
     "name": "stdout",
     "output_type": "stream",
     "text": [
      "Split OK with random_state=42\n",
      "Classes in train_split: [0 1]\n",
      "Classes in val: [0 1]\n",
      "\n",
      "Classification Report:\n",
      "              precision    recall  f1-score   support\n",
      "\n",
      "           0       0.98      0.86      0.92    131902\n",
      "           1       0.46      0.90      0.61     18098\n",
      "\n",
      "    accuracy                           0.86    150000\n",
      "   macro avg       0.72      0.88      0.76    150000\n",
      "weighted avg       0.92      0.86      0.88    150000\n",
      "\n",
      "AUC-ROC: 0.9471\n",
      "Submission file created!\n"
     ]
    }
   ],
   "source": [
    "# Трансформер для числовых признаков с сплайнами\n",
    "num_transformer = Pipeline(steps=[\n",
    "    ('splines', SplineTransformer(n_knots=5, degree=3, include_bias=True)),  # Добавляем сплайны\n",
    "    ('scaler', StandardScaler())\n",
    "])\n",
    "\n",
    "# Препроцессор\n",
    "preprocessor = ColumnTransformer(\n",
    "    transformers=[\n",
    "        ('num', num_transformer, num_features),\n",
    "        ('cat', OneHotEncoder(handle_unknown='ignore', drop='first'), cat_features)\n",
    "    ])\n",
    "\n",
    "# Модель\n",
    "model = Pipeline(steps=[\n",
    "    ('preprocessor', preprocessor),\n",
    "    ('classifier', LogisticRegression(random_state=42, max_iter=1000, class_weight='balanced'))\n",
    "])\n",
    "\n",
    "# Разделение данных\n",
    "split_success = False\n",
    "for rs in [42, 123, 456, 777, 0]:\n",
    "    X_train_split, X_val, y_train_split, y_val = train_test_split(\n",
    "        X_train, y_train, test_size=0.2, stratify=y_train, random_state=rs, shuffle=True\n",
    "    )\n",
    "    if len(np.unique(y_train_split)) >= 2 and len(np.unique(y_val)) >= 2:\n",
    "        print(f\"Split OK with random_state={rs}\")\n",
    "        print(\"Classes in train_split:\", np.unique(y_train_split))\n",
    "        print(\"Classes in val:\", np.unique(y_val))\n",
    "        split_success = True\n",
    "        break\n",
    "    else:\n",
    "        print(f\"Split failed with rs={rs}: train_classes={np.unique(y_train_split)}, val_classes={np.unique(y_val)}\")\n",
    "\n",
    "if split_success:\n",
    "    # Обучение и оценка\n",
    "    model.fit(X_train_split, y_train_split)\n",
    "    y_pred = model.predict(X_val)\n",
    "    y_pred_proba = model.predict_proba(X_val)[:, 1]\n",
    "    print(\"\\nClassification Report:\")\n",
    "    print(classification_report(y_val, y_pred))\n",
    "    print(f\"AUC-ROC: {roc_auc_score(y_val, y_pred_proba):.4f}\")\n",
    "else:\n",
    "    # Кросс-валидация, если сплит не удался\n",
    "    print(\"Split failed — using cross-validation.\")\n",
    "    cv = StratifiedKFold(n_splits=5, shuffle=True, random_state=42)\n",
    "    cv_scores = cross_val_score(model, X_train, y_train, cv=cv, scoring='roc_auc', n_jobs=-1)\n",
    "    print(f\"Cross-validation AUC-ROC scores: {cv_scores}\")\n",
    "    print(f\"Mean AUC-ROC: {cv_scores.mean():.4f} ± {cv_scores.std():.4f}\")\n",
    "\n",
    "    # Обучение на полном датасете\n",
    "    model.fit(X_train, y_train)\n",
    "\n",
    "# Предсказания для теста\n",
    "df_test = pd.read_csv('test.csv')\n",
    "X_test = df_test.drop('id', axis=1)\n",
    "test_predictions = model.predict_proba(X_test)[:, 1]\n",
    "submission = pd.DataFrame({'id': df_test['id'], 'y': test_predictions})\n",
    "submission.to_csv('lr_with_splines_submission.csv', index=False)\n",
    "print(\"Submission file created!\")"
   ]
  }
 ],
 "metadata": {
  "kernelspec": {
   "display_name": "financial_project_env",
   "language": "python",
   "name": "python3"
  },
  "language_info": {
   "codemirror_mode": {
    "name": "ipython",
    "version": 3
   },
   "file_extension": ".py",
   "mimetype": "text/x-python",
   "name": "python",
   "nbconvert_exporter": "python",
   "pygments_lexer": "ipython3",
   "version": "3.13.7"
  }
 },
 "nbformat": 4,
 "nbformat_minor": 5
}
